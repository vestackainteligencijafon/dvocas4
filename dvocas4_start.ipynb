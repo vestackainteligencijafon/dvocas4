{
 "cells": [
  {
   "metadata": {},
   "cell_type": "markdown",
   "source": "# Dvocas 4",
   "id": "8a77807f92f26ee"
  },
  {
   "metadata": {
    "ExecuteTime": {
     "end_time": "2025-06-13T01:08:59.976929Z",
     "start_time": "2025-06-13T01:08:59.973139Z"
    }
   },
   "cell_type": "code",
   "source": [
    "# Import potrebnih biblioteka\n",
    "import pandas as pd\n",
    "import numpy as np\n",
    "import matplotlib.pyplot as plt\n",
    "import seaborn as sb\n",
    "import statsmodels.api as sm\n",
    "\n"
   ],
   "id": "7df9140457caed5e",
   "outputs": [],
   "execution_count": 50
  },
  {
   "metadata": {},
   "cell_type": "markdown",
   "source": "### Učitvanje seta podataka",
   "id": "2e44cfe2f556cba1"
  },
  {
   "metadata": {
    "collapsed": true,
    "ExecuteTime": {
     "end_time": "2025-06-13T01:09:00.790676Z",
     "start_time": "2025-06-13T01:09:00.785098Z"
    }
   },
   "cell_type": "code",
   "source": [
    "# Load dataset\n",
    "\n",
    "\n",
    "# crim: Stopa kriminala po glavi stanovnika u naselju\n",
    "# zn: Procenat velikih stambenih parcela (preko 25.000 kvadratnih stopa)\n",
    "# indus: Procenat površina namenjenih nestambenim poslovnim zonama u naselju\n",
    "# chas: Da li se nekretnina nalazi pored reke Charles (1 = da, 0 = ne)\n",
    "# nox: Koncentracija azotnih oksida u vazduhu (zagađenje)\n",
    "# rm: Prosečan broj soba po stambenoj jedinici\n",
    "# age: Procenat starih stanova (izgrađenih pre 1940) koje vlasnici koriste\n",
    "# dis: Prosečna udaljenost do poslovnih centara u Bostonu (ponderisana)\n",
    "# rad: Indeks pristupa autoputevima (radijalnim)\n",
    "# tax: Godišnji porez na imovinu po 10.000 dolara vrednosti\n",
    "# lstat: Procenat stanovništva niže socioekonomske klase (eng. lower status).\n",
    "# medv: Medijana vrednosti kuća u naselju (u hiljadama dolara). Ovo je često zavisna varijabla u analizama.\n",
    "# ptratio: Odnos broja učenika i nastavnika u osnovnim i srednjim školama u naselju (pupil-teacher ratio)."
   ],
   "id": "initial_id",
   "outputs": [],
   "execution_count": 51
  },
  {
   "metadata": {},
   "cell_type": "markdown",
   "source": "### Pregled seta podataka\n",
   "id": "62a8c026dc794d85"
  },
  {
   "metadata": {
    "ExecuteTime": {
     "end_time": "2025-06-13T09:31:27.345123Z",
     "start_time": "2025-06-13T09:31:27.341242Z"
    }
   },
   "cell_type": "code",
   "source": [
    "# Prikaži prvih nekoliko redova\n",
    "\n",
    "# Prikaži osnovne informacije i tipove podataka\n",
    "\n",
    "\n",
    "# Prikaži osnovnu statistiku\n",
    "\n",
    "\n",
    "# Boolean indexing\n",
    "\n",
    "\n",
    "\n",
    "# Prikaži redove u kojima kolona 'rm' sadrži nenumeričke karaktere: \"-\", \"/\", ili razmak\n",
    "\n",
    "\n",
    "# Ukloni redove gde kolona 'rm' sadrži \"-\", \"/\", ili razmak\n",
    "\n",
    "\n",
    "# Konvertuj kolonu 'rm' u numerički tip (nevalidne vrednosti će postati NaN)\n",
    "\n",
    "# izbaci sve redove koji imaju NaN u bilo kojoj koloni\n",
    "\n"
   ],
   "id": "e65e58a1b7e04493",
   "outputs": [],
   "execution_count": 1
  },
  {
   "metadata": {
    "ExecuteTime": {
     "end_time": "2025-06-13T09:31:27.657761Z",
     "start_time": "2025-06-13T09:31:27.655080Z"
    }
   },
   "cell_type": "code",
   "source": "# Ponovo pogledati datset",
   "id": "43f3ea8e9fd9759f",
   "outputs": [],
   "execution_count": 2
  },
  {
   "metadata": {},
   "cell_type": "markdown",
   "source": "### Kreiranje i prikaz korelacione matrice",
   "id": "8556009fb6653fd6"
  },
  {
   "metadata": {
    "ExecuteTime": {
     "end_time": "2025-06-13T09:38:55.031623Z",
     "start_time": "2025-06-13T09:38:55.027906Z"
    }
   },
   "cell_type": "code",
   "source": [
    "# Kreiraj korelacionu matricu\n",
    "# corr_matrix = df.corr(numeric_only=True).round(2)\n",
    "#\n",
    "# plt.figure(figsize=(10, 8))\n",
    "# sb.heatmap(df.corr(numeric_only=True), annot=True, cmap='coolwarm', vmin=-1, vmax=1)\n",
    "# plt.title(\"Korelaciona matrica\")\n",
    "# plt.tight_layout()\n",
    "# plt.show()"
   ],
   "id": "741f77ce93fabbc8",
   "outputs": [],
   "execution_count": 7
  },
  {
   "metadata": {},
   "cell_type": "markdown",
   "source": "### Izbor variajbli",
   "id": "b3333d9dec3d6f35"
  },
  {
   "metadata": {
    "ExecuteTime": {
     "end_time": "2025-06-13T01:09:17.144607Z",
     "start_time": "2025-06-13T01:09:17.140175Z"
    }
   },
   "cell_type": "code",
   "source": [
    "from sklearn.model_selection import train_test_split\n",
    "import statsmodels.formula.api as smf\n",
    "\n",
    "# Podela podataka: 80% train, 20% test\n",
    "\n",
    "# Kako izabrati prediktore?\n",
    "\n",
    "# Vatijable cija je apsolutna vrednost iznad 0.5\n",
    "# - Prag 0.5 se u praksi cesto koristi kao prvi prag.\n",
    "\n",
    "# Varijable cija je apsolutna vrednost ispod 0.5\n",
    "# - Additivni doprinos – zbir slabih prediktora može značajno povećati R² kad se kombinuju.\n",
    "# - Ako domen nalaže da nešto utiče na izlaznu varijablu\n"
   ],
   "id": "9357480ebbec3bd1",
   "outputs": [],
   "execution_count": 55
  },
  {
   "metadata": {
    "ExecuteTime": {
     "end_time": "2025-06-13T09:31:58.662962Z",
     "start_time": "2025-06-13T09:31:58.657742Z"
    }
   },
   "cell_type": "code",
   "source": [
    "# Scatter-plotovi pre modeliranja\n",
    "\n",
    "\n"
   ],
   "id": "2001ded2eb6715eb",
   "outputs": [],
   "execution_count": 3
  },
  {
   "metadata": {},
   "cell_type": "markdown",
   "source": "### Kreiranje modela",
   "id": "8a6218a67335dacc"
  },
  {
   "metadata": {
    "ExecuteTime": {
     "end_time": "2025-06-13T01:09:22.089884Z",
     "start_time": "2025-06-13T01:09:22.063112Z"
    }
   },
   "cell_type": "code",
   "source": [
    "\n",
    "# Višestruki linearni modeli\n",
    "\n",
    "\n",
    "\n",
    "# lm3 – svi (numerički) prediktori\n",
    "\n"
   ],
   "id": "83079bf19f804508",
   "outputs": [],
   "execution_count": 57
  },
  {
   "metadata": {},
   "cell_type": "markdown",
   "source": "### Pravljenje predikcija",
   "id": "99195541db51c801"
  },
  {
   "metadata": {
    "ExecuteTime": {
     "end_time": "2025-06-13T09:32:57.073160Z",
     "start_time": "2025-06-13T09:32:57.057936Z"
    }
   },
   "cell_type": "code",
   "source": [
    "# Predikcije na test-skupu i pregled rezultata\n",
    "\n",
    "\n",
    "\n",
    "# Prikaz – prvih 15 redova\n",
    "\n"
   ],
   "id": "9bf262328da8b6bc",
   "outputs": [],
   "execution_count": 4
  },
  {
   "metadata": {},
   "cell_type": "markdown",
   "source": "### Izračunavanje metrika na test setu i poređenje rezultata",
   "id": "73c0c0a9855613d6"
  },
  {
   "metadata": {
    "ExecuteTime": {
     "end_time": "2025-06-13T09:33:12.835159Z",
     "start_time": "2025-06-13T09:33:12.823802Z"
    }
   },
   "cell_type": "code",
   "source": [
    "# y_true i y_pred\n",
    "\n",
    "\n",
    "# RSS (Residual Sum of Squares) -  velike greške dobijaju veću težinu\n",
    "\n",
    "\n",
    "# TSS (Total Sum of Squares)\n",
    "\n",
    "# R² na test-skupu\n",
    "\n",
    "\n",
    "# RMSE na test-skupu\n",
    "#Kvadriramo da izbegnemo +/-\n",
    "#Onda uzmemo koren da vratimo na realnu skalu. Deljenjem sa duzinom vracamo skalu na jednu opservaciju\n",
    "\n",
    "\n",
    "\n",
    "\n",
    "# Najbolje rezultate daje model 3 - da li znaci da je najbolji?"
   ],
   "id": "dda64cfa2b4d3e2b",
   "outputs": [],
   "execution_count": 5
  },
  {
   "metadata": {},
   "cell_type": "markdown",
   "source": "### Prover multikolinearnosti",
   "id": "971ed4460c699b7b"
  },
  {
   "metadata": {
    "ExecuteTime": {
     "end_time": "2025-06-13T09:33:26.633825Z",
     "start_time": "2025-06-13T09:33:26.599189Z"
    }
   },
   "cell_type": "code",
   "source": [
    "from statsmodels.stats.outliers_influence import variance_inflation_factor as vif\n",
    "#  Računanje VIF za sve prediktore\n",
    "\n",
    "# Pripremamo X: svi prediktori iz train_df + konstanta\n",
    "\n",
    "# Računamo VIF za svaki prediktor i vadimo kvadratni koren (√VIF)\n",
    "# √VIF iznad 2 - potencijalna kolinearnost (prag po izboru)\n",
    "\n",
    "# Ponovno računanje VIF nakon izbacivanja 'tax'\n",
    "\n",
    "# Ponovo računamo √VIF\n"
   ],
   "id": "b03e6e340e7e8dde",
   "outputs": [],
   "execution_count": 6
  }
 ],
 "metadata": {
  "kernelspec": {
   "display_name": "Python 3",
   "language": "python",
   "name": "python3"
  },
  "language_info": {
   "codemirror_mode": {
    "name": "ipython",
    "version": 2
   },
   "file_extension": ".py",
   "mimetype": "text/x-python",
   "name": "python",
   "nbconvert_exporter": "python",
   "pygments_lexer": "ipython2",
   "version": "2.7.6"
  }
 },
 "nbformat": 4,
 "nbformat_minor": 5
}
